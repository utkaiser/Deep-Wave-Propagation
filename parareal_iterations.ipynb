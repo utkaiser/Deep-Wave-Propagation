{
 "cells": [
  {
   "cell_type": "markdown",
   "metadata": {
    "collapsed": false
   },
   "source": [
    "# Parareal Iterations"
   ]
  },
  {
   "cell_type": "markdown",
   "metadata": {
    "collapsed": false
   },
   "source": [
    "This notebook explains how to use the Parareal scheme in combination with the end-to-end model of the master's thesis “Fast, Accurate, and Scalable Numerical Wave Propagation: Enhancement by Deep Learning” by Luis Kaiser, supervised by Prof. Tsai (University of Texas Austin) and Prof. Klingenberg (University of Wuerzburg), in practice."
   ]
  },
  {
   "cell_type": "markdown",
   "metadata": {
    "collapsed": false
   },
   "source": [
    "First, make sure that you have install all necessary libraries specified in `requirements.txt` using `pip` or `pip3` depending on your setup by running the command below."
   ]
  },
  {
   "cell_type": "code",
   "execution_count": null,
   "metadata": {
    "collapsed": false
   },
   "outputs": [],
   "source": [
    "!pip3 install --upgrade pip\n",
    "!pip3 install -r requirements.txt"
   ]
  },
  {
   "cell_type": "markdown",
   "metadata": {
    "collapsed": false
   },
   "source": [
    "We make this notebook easier to read with less complex dependencies in the code compared to the original implementation. The main difference is that this notebook is used to evaluate the performance of the trained end-to-end model, while in the other approach, we train the model during the Parareal iterations. This has the key benefit that the model is able to better leverage the Parareal scheme."
   ]
  },
  {
   "cell_type": "markdown",
   "metadata": {
    "collapsed": false
   },
   "source": [
    "For this, we first input the velocity profile and an initial condition $u$ and $u_t$. Next, we take a first guess by applying the pre-trained end-to-end model multiple times (defined by variable `n_it`) to advance the wave front. We then use this information to enhance our solution according to the Parareal scheme. The thesis contains detailed information about the algorithm.\n",
    "The coarse solver $G_{\\Delta t^\\star}$ and the fine solver $F_{\\Delta t^\\star}$ solve the wave equation numerically for a time step $\\Delta t^\\star$. We further define $\\mathfrak{u}_{n+1} := F_{\\Delta t^\\star} \\mathfrak{u}_n$ with $\\mathfrak{u}_{n+1} := (u, u_t)$.\n",
    "\n",
    "The Parareal scheme follows as:\n",
    "\\begin{equation}\n",
    "    \\mathfrak{u}_{n+1}^{k+1} = \\mathcal{I} G_{\\Delta t^\\star} \\mathcal{R} \\mathfrak{u}_n^{k+1} + [F_{\\Delta t^\\star} \\mathfrak{u}_n^k - \\mathcal{I} G_{\\Delta t^\\star} \\mathcal{R} \\mathfrak{u}_n^k], k = 0,1,...\n",
    "\\end{equation}\n",
    "with the starting condition\n",
    "\\begin{equation}\n",
    "    \\mathfrak{u}_{n+1}^0 := \\mathcal{I} G_{\\Delta t^\\star} \\mathcal{R} \\mathfrak{u}_n^0, n \\in \\mathbb{N}.\n",
    "\\end{equation}"
   ]
  },
  {
   "cell_type": "code",
   "execution_count": 7,
   "metadata": {
    "collapsed": false
   },
   "outputs": [],
   "source": [
    "from utils_use_numerical_solver import get_velocity_model\n",
    "from utils_parareal_iterations import get_model, pseudo_spectral_solutions, visualize_parareal\n",
    "from utils_training_model import get_params\n",
    "from utils_generating_data import one_iteration_pseudo_spectral_tensor, initial_condition_gaussian\n",
    "from matplotlib import pyplot as plt\n",
    "import sys\n",
    "import torch\n",
    "\n",
    "sys.path.append(\"..\")\n",
    "device = torch.device(\"cuda\" if torch.cuda.is_available() else \"cpu\")\n",
    "\n",
    "\n",
    "def get_parareal_solutions(\n",
    "        vel_data_path = \"data/crop_test.npz\",\n",
    "        res = 128,\n",
    "        n_it = 10,\n",
    "        n_parareal = 2,\n",
    "        boundary_conditions = \"periodic\",\n",
    "        model_res = 128,\n",
    "        model_path = \"results/saved_model_test.pt\"\n",
    "):\n",
    "    param_dict = get_params()\n",
    "    model = get_model(\n",
    "        model_path = model_path,\n",
    "        param_dict = param_dict,\n",
    "    )\n",
    "    model.eval()\n",
    "    vel = get_velocity_model(vel_data_path)\n",
    "\n",
    "    # computing initial condition using gaussian pulse (switch to pytorch tensor if needed)\n",
    "    u_energy, u_elapse = initial_condition_gaussian(\n",
    "        torch.from_numpy(vel),\n",
    "        mode=\"energy_components\",\n",
    "        res_padded=res\n",
    "    )\n",
    "\n",
    "    ps_sol_tensor, ps_u_elapse = pseudo_spectral_solutions(u_energy, u_elapse, vel, n_it,\n",
    "                                       param_dict[\"f_delta_x\"],\n",
    "                                       param_dict[\"f_delta_t\"],\n",
    "                                       param_dict[\"delta_t_star\"])\n",
    "\n",
    "    with torch.no_grad():\n",
    "        parareal_tensor = parareal_scheme(\n",
    "            model,\n",
    "            torch.cat([u_energy, torch.from_numpy(vel).unsqueeze(dim=0).unsqueeze(dim=0)], dim=1),\n",
    "            n_parareal,\n",
    "            n_it,\n",
    "            boundary_conditions,\n",
    "            ps_u_elapse\n",
    "        )\n",
    "\n",
    "\n",
    "    print(f\"Comparing results for {n_it} iterations of pseudo-spectral method (first row) vs \"\n",
    "          f\"end-to-end model (second row), and Parareal scheme (last rows).\")\n",
    "\n",
    "    visualize_parareal(\n",
    "        ps_sol_tensor,\n",
    "        parareal_tensor,\n",
    "        n_parareal,\n",
    "        n_it,\n",
    "        param_dict[\"f_delta_x\"],\n",
    "        vel,\n",
    "        u_elapse\n",
    "    )\n",
    "\n",
    "    plt.show()\n",
    "\n",
    "\n",
    "\n",
    "def parareal_scheme(\n",
    "        model,\n",
    "        u_0,\n",
    "        n_parareal,\n",
    "        n_snapshots,\n",
    "        boundary_conditions,\n",
    "        ps_u_elapse\n",
    "):\n",
    "\n",
    "    u_n = u_0.clone()\n",
    "    vel = u_0[:,3].clone().unsqueeze(dim=0)\n",
    "    batch_size, channel, width, height = u_n.shape\n",
    "    if boundary_conditions == \"absorbing\":\n",
    "        width, height = width * 2, height * 2\n",
    "\n",
    "    # create tensor to save results during iterations; in \"absorbing\" boundary case,\n",
    "    # we use padding because of pseudo-spectral method\n",
    "    big_tensor = torch.zeros([n_parareal+1, n_snapshots, batch_size, channel - 1, width, height])\n",
    "\n",
    "    # initial guess, first iteration without parareal\n",
    "    print(f\"Performing initial guess.\")\n",
    "    for n in range(n_snapshots-1):\n",
    "        u_n1 = model(u_n, ps_u_elapse[n])\n",
    "        big_tensor[0,n+1] = u_n1\n",
    "        u_n = torch.cat((u_n1, vel), dim=1)\n",
    "\n",
    "    # parareal iterations: k = 1, 2, ...\n",
    "    for k in range(1,n_parareal+1):\n",
    "        print(f\"Performing Parareal iteration {k}.\")\n",
    "\n",
    "        big_tensor[k,0] = u_0[0,:3].clone()\n",
    "        parareal_terms = get_parareal_terms(\n",
    "            model, big_tensor[k].clone(),\n",
    "            n_snapshots, vel.clone(), ps_u_elapse\n",
    "        )\n",
    "        new_big_tensor = torch.zeros([n_snapshots, batch_size, channel - 1, width, height])\n",
    "        new_big_tensor[0] = u_0[:, :3].clone()\n",
    "\n",
    "        for n in range(n_snapshots-1):\n",
    "            u_n_k1 = torch.cat((new_big_tensor[n], vel), dim=1)\n",
    "            u_n1_k1 = model(u_n_k1, ps_u_elapse[n]) + parareal_terms[n]\n",
    "            new_big_tensor[n+1] = u_n1_k1\n",
    "\n",
    "        if k < n_parareal:\n",
    "            big_tensor[k+1] = new_big_tensor.clone()\n",
    "\n",
    "    return big_tensor\n",
    "\n",
    "\n",
    "def get_parareal_terms(\n",
    "        model,\n",
    "        big_pseudo_tensor,\n",
    "        n_snapshots,\n",
    "        vel,\n",
    "        ps_u_elapse\n",
    "):\n",
    "    '''\n",
    "    Parameters\n",
    "    ----------\n",
    "    model : (pytorch.Model) end-to-end model to advance a wave front\n",
    "    big_pseudo_tensor : (pytorch tensor) tensor containing previous solution (high resolution due to pseudo-spectral cropping)\n",
    "    n_snapshots : (int) number of iterations (number of iterations with length dt_star)\n",
    "    vel : (pytorch tensor) velocity profile\n",
    "    ps_u_elapse : (float) u physical components\n",
    "\n",
    "    Returns\n",
    "    -------\n",
    "    get Parareal terms that can be computed in parallel\n",
    "    '''\n",
    "\n",
    "    with torch.no_grad():\n",
    "        parareal_terms = torch.zeros(big_pseudo_tensor.shape)\n",
    "        for s in range(n_snapshots):\n",
    "            parareal_terms[s] = compute_parareal_term(model, torch.cat([big_pseudo_tensor[s], vel], dim=1), ps_u_elapse[s])\n",
    "    return parareal_terms\n",
    "\n",
    "\n",
    "def compute_parareal_term(\n",
    "        model,\n",
    "        u_n_k,\n",
    "        u_elapse\n",
    "):\n",
    "    '''\n",
    "    Parameters\n",
    "    ----------\n",
    "    model : (pytorch.Model) end-to-end model to advance a wave front\n",
    "    u_n_k : (pytorch tensor) current wave field\n",
    "    u_elapse: (float) u physical components\n",
    "\n",
    "    Returns\n",
    "    -------\n",
    "    difference between Parareal terms of right-hand side of main Parareal equation (see thesis)\n",
    "    '''\n",
    "\n",
    "    res_fine_solver, _ = one_iteration_pseudo_spectral_tensor(u_n_k, u_elapse)\n",
    "    res_model = model(u_n_k, u_elapse)\n",
    "\n",
    "    return res_fine_solver.to(device) - res_model.to(device)"
   ]
  },
  {
   "cell_type": "code",
   "execution_count": null,
   "metadata": {
    "collapsed": false
   },
   "outputs": [],
   "source": [
    "get_parareal_solutions()"
   ]
  },
  {
   "cell_type": "code",
   "execution_count": null,
   "metadata": {
    "collapsed": false
   },
   "outputs": [],
   "source": []
  }
 ],
 "metadata": {
  "kernelspec": {
   "display_name": ".venv",
   "language": "python",
   "name": "python3"
  },
  "language_info": {
   "codemirror_mode": {
    "name": "ipython",
    "version": 3
   },
   "file_extension": ".py",
   "mimetype": "text/x-python",
   "name": "python",
   "nbconvert_exporter": "python",
   "pygments_lexer": "ipython3",
   "version": "3.10.16"
  }
 },
 "nbformat": 4,
 "nbformat_minor": 0
}
