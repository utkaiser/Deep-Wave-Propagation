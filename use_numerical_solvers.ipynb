{
 "cells": [
  {
   "cell_type": "markdown",
   "metadata": {
    "collapsed": false
   },
   "source": [
    "# Numerical Solvers"
   ]
  },
  {
   "cell_type": "markdown",
   "metadata": {
    "collapsed": false
   },
   "source": [
    "This notebook explains how to use the numerical solvers of the masters thesis \"Fast, Accurate, and Scalable Numerical Wave Propagation: Enhancement by Deep Learning\" by Luis Kaiser, supervised by Prof. Tsai (University of Texas Austin) and Prof. Klingenberg (University of Wuerzburg), in practice."
   ]
  },
  {
   "cell_type": "markdown",
   "metadata": {
    "collapsed": false
   },
   "source": [
    "First, install all necessary libraries specified in `requirements.txt` using `pip` or `pip3` depending on your setup by running the command below."
   ]
  },
  {
   "cell_type": "code",
   "execution_count": null,
   "metadata": {
    "collapsed": false
   },
   "outputs": [],
   "source": [
    "!pip3 install --upgrade pip\n",
    "!pip3 install -r requirements.txt"
   ]
  },
  {
   "cell_type": "markdown",
   "metadata": {
    "collapsed": false
   },
   "source": [
    "Generally, the velocity Verlet algorithm and the RK4 pseudo-spectral algorithm are used to advance a two-dimensional wave field in a complex medium. By running the code below, we deploy one of the solvers for 10 time steps starting with an initial Gaussian pulse. This setup solves the wave equation with periodic boundary conditions. For absorbing boundary conditions, small modifications have to be made: First use the `velocity_verlet_tensor` implementation and use the parameter `boundary_c = absorbing`. Then, change the inputs `u, ut` to the function `velocity_verlet_tensor` to `torch.Tensor`."
   ]
  },
  {
   "cell_type": "code",
   "execution_count": 1,
   "metadata": {
    "collapsed": false
   },
   "outputs": [],
   "source": [
    "from utils_use_numerical_solver import get_velocity_model, pseudo_spectral_tensor, velocity_verlet_tensor, init_pulse_gaussian, WaveEnergyField_tensor\n",
    "import matplotlib.pyplot as plt\n",
    "import torch\n",
    "\n",
    "def visualize_numerical_solver_periodic(\n",
    "        vel_data_path = \"data/crop_test.npz\",\n",
    "        method = \"pseudo-spectral\",\n",
    "        dx = 2./128.,\n",
    "        dt = 1/600.,\n",
    "        dt_star = .06\n",
    "):\n",
    "    '''\n",
    "    Parameters\n",
    "    ----------\n",
    "    vel_data_path : (string) path to velocity profile crops\n",
    "    method : (string) \"pseudo-spectral\" or \"velocity-verlet\"\n",
    "    res : (int) dimensionality of the input\n",
    "    dx : (float) spatial step size numerical solver\n",
    "    dt : (float) temporal step size numerical solver\n",
    "    dt_star : (float) time interval the solver is applied once\n",
    "\n",
    "    Returns\n",
    "    -------\n",
    "    10 advancements of timestep dt_star with periodic boundary conditions\n",
    "    '''\n",
    "\n",
    "    print(f\"Advancement of two-dimensional wave fields using {method}:\")\n",
    "\n",
    "    vel = torch.from_numpy(get_velocity_model(vel_data_path))\n",
    "\n",
    "    # computing initial condition using gaussian pulse (switch to pytorch tensor if needed)\n",
    "    u, ut = init_pulse_gaussian(7000, 128, 0, 0)\n",
    "    u, ut = torch.from_numpy(u), torch.from_numpy(ut)\n",
    "\n",
    "    for s in range(10):\n",
    "\n",
    "        # run one iteration of the RK4 / velocity Verlet method for time dt_star and step size dx, time increment dt\n",
    "        if method == \"pseudo-spectral\":\n",
    "            u, ut = pseudo_spectral_tensor(u, ut, vel, dx, dt, dt_star)\n",
    "        else:  # method == \"velocity_verlet\"\n",
    "            u, ut = velocity_verlet_tensor(u, ut, vel, dx, dt, dt_star)\n",
    "\n",
    "        # change representation to energy semi-norm\n",
    "        w = WaveEnergyField_tensor(u,ut,vel, dx)\n",
    "\n",
    "        # visualize results\n",
    "        plt.axis(\"off\")\n",
    "        plt.imshow(w)\n",
    "        plt.title(f\"wave field for iteration {s}\")\n",
    "        plt.show()"
   ]
  },
  {
   "cell_type": "code",
   "execution_count": null,
   "metadata": {
    "collapsed": false
   },
   "outputs": [],
   "source": [
    "visualize_numerical_solver_periodic()"
   ]
  },
  {
   "cell_type": "code",
   "execution_count": null,
   "metadata": {
    "collapsed": false
   },
   "outputs": [],
   "source": []
  }
 ],
 "metadata": {
  "kernelspec": {
   "display_name": ".venv",
   "language": "python",
   "name": "python3"
  },
  "language_info": {
   "codemirror_mode": {
    "name": "ipython",
    "version": 3
   },
   "file_extension": ".py",
   "mimetype": "text/x-python",
   "name": "python",
   "nbconvert_exporter": "python",
   "pygments_lexer": "ipython3",
   "version": "3.10.16"
  }
 },
 "nbformat": 4,
 "nbformat_minor": 0
}
